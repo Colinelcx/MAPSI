{
 "cells": [
  {
   "cell_type": "markdown",
   "metadata": {},
   "source": [
    "# TME sur les données blablacar\n",
    "\n",
    "**Ce fichier est le fichier de travail**, l'autre fichier blablacar est donné pour information et pour montrer comment les données ont été collectées."
   ]
  },
  {
   "cell_type": "code",
   "execution_count": 1,
   "metadata": {},
   "outputs": [],
   "source": [
    "import numpy as np\n",
    "import matplotlib.pyplot as plt\n",
    "%matplotlib notebook\n",
    "import pickle as pkl"
   ]
  },
  {
   "cell_type": "markdown",
   "metadata": {},
   "source": [
    "## Chargement des données\n",
    "\n",
    "Les données sont stockées au format pickle (code fourni ci-dessous):\n",
    "\n",
    "1. Importer le module : import `pickle as pkl`\n",
    "1. Charger les données avec `load`\n",
    "1. La structure est un dictionnaire, les données sont dans le champ `data`\n",
    "1. La description des colonnes est dans `indexcol`"
   ]
  },
  {
   "cell_type": "code",
   "execution_count": 2,
   "metadata": {},
   "outputs": [
    {
     "ename": "FileNotFoundError",
     "evalue": "[Errno 2] No such file or directory: 'donnees_blablacar.pkl'",
     "output_type": "error",
     "traceback": [
      "\u001b[0;31m---------------------------------------------------------------------------\u001b[0m",
      "\u001b[0;31mFileNotFoundError\u001b[0m                         Traceback (most recent call last)",
      "\u001b[0;32m<ipython-input-2-643476205390>\u001b[0m in \u001b[0;36m<module>\u001b[0;34m\u001b[0m\n\u001b[1;32m      1\u001b[0m \u001b[0;31m# chargement des donnÃ©es\u001b[0m\u001b[0;34m\u001b[0m\u001b[0;34m\u001b[0m\u001b[0;34m\u001b[0m\u001b[0m\n\u001b[0;32m----> 2\u001b[0;31m \u001b[0mfich\u001b[0m \u001b[0;34m=\u001b[0m \u001b[0mpkl\u001b[0m\u001b[0;34m.\u001b[0m\u001b[0mload\u001b[0m\u001b[0;34m(\u001b[0m \u001b[0mopen\u001b[0m\u001b[0;34m(\u001b[0m\u001b[0;34m'donnees_blablacar.pkl'\u001b[0m\u001b[0;34m,\u001b[0m \u001b[0;34m'rb'\u001b[0m\u001b[0;34m)\u001b[0m\u001b[0;34m)\u001b[0m\u001b[0;34m\u001b[0m\u001b[0;34m\u001b[0m\u001b[0m\n\u001b[0m\u001b[1;32m      3\u001b[0m \u001b[0;34m\u001b[0m\u001b[0m\n\u001b[1;32m      4\u001b[0m \u001b[0;31m# {'indexcol': cols , 'data':pp2db, 'villes': villes, 'marques':marques }\u001b[0m\u001b[0;34m\u001b[0m\u001b[0;34m\u001b[0m\u001b[0;34m\u001b[0m\u001b[0m\n\u001b[1;32m      5\u001b[0m \u001b[0mtitles_col\u001b[0m \u001b[0;34m=\u001b[0m \u001b[0mfich\u001b[0m\u001b[0;34m[\u001b[0m\u001b[0;34m'indexcol'\u001b[0m\u001b[0;34m]\u001b[0m\u001b[0;34m\u001b[0m\u001b[0;34m\u001b[0m\u001b[0m\n",
      "\u001b[0;31mFileNotFoundError\u001b[0m: [Errno 2] No such file or directory: 'donnees_blablacar.pkl'"
     ]
    }
   ],
   "source": [
    "# chargement des donnÃ©es\n",
    "fich = pkl.load( open('donnees_blablacar.pkl', 'rb'))\n",
    "\n",
    "# {'indexcol': cols , 'data':pp2db, 'villes': villes, 'marques':marques }\n",
    "titles_col = fich['indexcol']\n",
    "print(len(titles_col), titles_col) \n",
    "data = fich['data']\n",
    "print(data.shape)\n",
    "dico_villes = fich['villes']\n",
    "dico_marques = fich['marques']\n",
    "print(dico_marques)"
   ]
  },
  {
   "cell_type": "markdown",
   "metadata": {},
   "source": [
    "## DiscrÃ©tisation et histogramme\n",
    "\n",
    "Nous nous intÃ©ressons Ã  la variable `distance` (derniÃ¨re colonne). Nous allons procÃ©der de la maniÃ¨re suivante:\n",
    "1. Analyse rapide de la variable alÃ©atoire: calcul de la moyenne et de l'Ã©cart-type\n",
    "1. Analyse plus fine (1): affichage des 10 quantiles\n",
    "1. Analyse plus fine (2): discrÃ©tisation de la variable en 10 intervalles de largeur constante & comptage des effectifs dans chaque catÃ©gorie (= construction d'un histogramme)\n",
    " - Construire l'histogramme Ã  la main. (1) calculer les bornes des intervalles puis (2) utiliser `np.where` pour dÃ©terminer les effectifs dans chaque classe. Utiliser `plt.bar` pour l'affichage.\n",
    " - VÃ©rifier vos rÃ©sultats avec `np.histogram` et `plt.hist` pour l'affichage\n",
    " - Comparer les quantiles et les bornes des intervalles discrets\n",
    "1. Discuter le nombre d'intervalles pour l'histogramme et trouver une valeur satisfaisante\n",
    "\n",
    "**Notes** : \n",
    "- dans `np.where`, il faut mettre des parenthÃ¨ses s'il y a plusieurs clause\n",
    "\n",
    "> `np.where((x>a) & (x<b))` : tous les indices de x qui satisfont la clause\n",
    ">\n",
    "> `np.where((x>a) & (x<b), 1, 0).sum()` : le comptage associÃ©\n",
    "\n",
    "- Dans `plt.bar`, il faut donner une largeur importante aux bar, sinon on ne voit rien"
   ]
  },
  {
   "cell_type": "code",
   "execution_count": 17,
   "metadata": {},
   "outputs": [
    {
     "name": "stdout",
     "output_type": "stream",
     "text": [
      "moyenne : 254.74066583696327\n",
      "ecart-type : 210.07021031617558\n",
      "quatiles : [6.0, 64.0, 88.0, 111.0, 142.0, 182.0, 230.0, 316.0, 408.60000000000036, 552.0]\n"
     ]
    }
   ],
   "source": [
    "# Analyse rapide : moyenne, Ã©cart-type, calcul des quantiles pour faire la synthÃ¨se de cette variable alÃ©atoire\n",
    "\n",
    "d = data[:,-1] # extraction de la variable distance\n",
    "\n",
    "# A vous de jouer pour calculer tous les descripteurs = recherche dans la doc numpy !\n",
    "\n",
    "print(\"moyenne :\", d.mean())\n",
    "\n",
    "print(\"ecart-type :\",d.std())\n",
    "\n",
    "quantiles=[]\n",
    "for i in range(0,100,10):\n",
    "    quantiles.append(np.percentile(d,i))\n",
    "print(\"quatiles :\", quantiles)"
   ]
  },
  {
   "cell_type": "code",
   "execution_count": 50,
   "metadata": {},
   "outputs": [],
   "source": [
    "# DiscrÃ©tisation des distances & histogramme avec np.histogram\n",
    "h = np.histogram(d)"
   ]
  },
  {
   "cell_type": "code",
   "execution_count": 61,
   "metadata": {},
   "outputs": [
    {
     "data": {
      "image/png": "[encoded data removed]",
      "text/plain": [
       "<Figure size 432x288 with 1 Axes>"
      ]
     },
     "metadata": {},
     "output_type": "display_data"
    }
   ],
   "source": [
    "plt.hist(d)\n",
    "plt.show()"
   ]
  },
  {
   "cell_type": "code",
   "execution_count": 93,
   "metadata": {},
   "outputs": [
    {
     "name": "stdout",
     "output_type": "stream",
     "text": [
      "2254.0 6.0\n",
      "[6.0, 230.8, 455.6, 680.4000000000001, 905.2, 1130.0, 1354.8000000000002, 1579.6000000000001, 1804.4, 2029.2, 2254.0] [3859, 1465, 805, 213, 65, 13, 2, 3, 0, 0]\n"
     ]
    },
    {
     "data": {
      "text/plain": [
       "<BarContainer object of 10 artists>"
      ]
     },
     "execution_count": 93,
     "metadata": {},
     "output_type": "execute_result"
    },
    {
     "data": {
      "image/png": "[encoded data removed]",
      "text/plain": [
       "<Figure size 432x288 with 1 Axes>"
      ]
     },
     "metadata": {},
     "output_type": "display_data"
    }
   ],
   "source": [
    "# DiscrÃ©tisation des distances & histogramme a la main\n",
    "n = 30 # nb intervalle\n",
    "inter = (d.max() - d.min())/10\n",
    "print(d.max(), d.min())\n",
    "m = d.min()\n",
    "bornes = [m + i*inter for i in range(11)]\n",
    "# calcul des effectifs avec np.where\n",
    "effectifs = [len(np.where((d>bornes[i]) & (d<bornes[i+1]))[0]) for i in range(len(bornes)-1)]\n",
    "print(bornes,effectifs)\n",
    "# affichage avec plt.bar = histogramme Ã  la main\n",
    "plt.bar(bornes[:-1], effectifs, 200)"
   ]
  },
  {
   "cell_type": "markdown",
   "metadata": {},
   "source": [
    "## histogramme (bis)\n",
    "Tracer l'histogramme des prix au km"
   ]
  },
  {
   "cell_type": "code",
   "execution_count": 119,
   "metadata": {},
   "outputs": [
    {
     "data": {
      "text/plain": [
       "<BarContainer object of 10 artists>"
      ]
     },
     "execution_count": 119,
     "metadata": {},
     "output_type": "execute_result"
    },
    {
     "data": {
      "image/png": "[encoded data removed]",
      "text/plain": [
       "<Figure size 432x288 with 1 Axes>"
      ]
     },
     "metadata": {},
     "output_type": "display_data"
    }
   ],
   "source": [
    "# histogramme des prix au km : construction de la variable puis utilisation de np.histogram\n",
    "p = data[:,-4]\n",
    "h = np.histogram(p)\n",
    "\n",
    "plt.bar(h[1][:-1], h[0], 10)\n"
   ]
  },
  {
   "cell_type": "markdown",
   "metadata": {},
   "source": [
    "# Distributions jointes, distributions conditionnelles\n",
    "\n",
    "Nous voulons maintenant Ã©tudier la distribution jointe entre la distance et la marque de la voiture. Partir des distributions discrÃ¨tes ou discÃ©tisÃ©es et construire le tableau d'effectif puis normaliser par les effectifs de l'Ã©chantillon pour estimer la loi jointe.\n",
    "\n",
    "Il est diffile d'analyser cette probabilitÃ© jointe (cf ci-dessous pour l'affichage)... Nous allons donc passer Ã  la loi conditionnelle: nous voulons donc calculer la probabilitÃ© de la distance conditionnellement Ã  la marque de la voiture.\n",
    "\n",
    "1. Proposer un critÃ¨re rapide pour vÃ©rifier que votre distribution conditionnelle respecte bien les propriÃ©tÃ©s de base\n",
    "1. Cette distribution conditionnelle fait apparaitre des pics trÃ¨s marquÃ©s: pouvons-nous tirer parti de ces informations?\n",
    "\n",
    "**Note:** \n",
    "- pour afficher une matrice `p_dm`, la meilleure solution est la suivante:\n",
    "> `plt.imshow(p_dm, interpolation='nearest')`\n",
    ">\n",
    "> `plt.show()`\n",
    "- la variable `marque` est bruitÃ©e. Vous pourrez vous amuser Ã  Ã©liminer ou fusionner certaines catÃ©gories\n",
    "- les indices dans une matrice doivent toujours Ãªtre entiers. `int(...)`\n",
    "- pour ajouter une description sur l'axe des x:\n",
    "```python\n",
    "fig, ax = plt.subplots(1,1)\n",
    "plt.imshow(p_dsm, interpolation='nearest')\n",
    "ax.set_xticks(np.arange(len(dico_marques)))\n",
    "ax.set_xticklabels(dico_marques.keys(),rotation=90,fontsize=8)\n",
    "plt.show()\n",
    "```\n",
    "- Si l'image est trop petite pour voir quelque chose: solution = sauvegarde en pdf (ie vectorielle) + ouverture avec un logiciel de lecture pdf\n",
    "```python\n",
    "plt.savefig('mafigure.pdf')\n",
    "```\n",
    "\n"
   ]
  },
  {
   "cell_type": "code",
   "execution_count": 131,
   "metadata": {},
   "outputs": [
    {
     "name": "stdout",
     "output_type": "stream",
     "text": [
      "2254.0 6.0\n",
      "[1129 1665 1065  550  560  355  387  278  140   87   85   41   31   26\n",
      "    8    7    4    2    1    0    1    1    1    1    0    0    0    0\n",
      "    0    0]\n"
     ]
    },
    {
     "ename": "TypeError",
     "evalue": "No loop matching the specified signature and casting\nwas found for ufunc true_divide",
     "output_type": "error",
     "traceback": [
      "\u001b[0;31m---------------------------------------------------------------------------\u001b[0m",
      "\u001b[0;31mTypeError\u001b[0m                                 Traceback (most recent call last)",
      "\u001b[0;32m<ipython-input-131-4a6f2be3193a>\u001b[0m in \u001b[0;36m<module>\u001b[0;34m()\u001b[0m\n\u001b[1;32m     18\u001b[0m \u001b[0;31m# remplissage de la matrice p_dm = double boucle + comptage\u001b[0m\u001b[0;34m\u001b[0m\u001b[0;34m\u001b[0m\u001b[0m\n\u001b[1;32m     19\u001b[0m \u001b[0;34m\u001b[0m\u001b[0m\n\u001b[0;32m---> 20\u001b[0;31m \u001b[0mp_dm\u001b[0m \u001b[0;34m/=\u001b[0m \u001b[0mp_dm\u001b[0m\u001b[0;34m.\u001b[0m\u001b[0msum\u001b[0m\u001b[0;34m(\u001b[0m\u001b[0;34m)\u001b[0m \u001b[0;31m# normalisation\u001b[0m\u001b[0;34m\u001b[0m\u001b[0m\n\u001b[0m\u001b[1;32m     21\u001b[0m \u001b[0;34m\u001b[0m\u001b[0m\n\u001b[1;32m     22\u001b[0m \u001b[0;31m# affichage du rÃ©sultat\u001b[0m\u001b[0;34m\u001b[0m\u001b[0;34m\u001b[0m\u001b[0m\n",
      "\u001b[0;31mTypeError\u001b[0m: No loop matching the specified signature and casting\nwas found for ufunc true_divide"
     ]
    }
   ],
   "source": [
    "# loi jointe distance / marque\n",
    "\n",
    "# construction de la distance discrÃ©tisÃ©e \n",
    "# Dimensions : = (Nind x 1) = mÃªmes dimensions que d\n",
    "# contenu = catÃ©gorie de distance (entre 0 et 29 par exemple si on a discrÃ©tisÃ© en 30 catÃ©gories)\n",
    "\n",
    "\n",
    "n = 30 # nb intervalle\n",
    "inter = (d.max() - d.min())/30\n",
    "print(d.max(), d.min())\n",
    "m = d.min()\n",
    "dd = [m + i*inter for i in range(31)]\n",
    "\n",
    "# remplissage avec np.where\n",
    "p_dm  = np.array([len(np.where((d>dd[i]) & (d<dd[i+1]))[0]) for i in range(len(dd)-1)])\n",
    "print(p_dm)\n",
    "\n",
    "# remplissage de la matrice p_dm = double boucle + comptage\n",
    "\n",
    "p_dm /= p_dm.sum() # normalisation\n",
    "\n",
    "# affichage du rÃ©sultat\n",
    "plt.imshow(p_dm, interpolation='nearest')\n",
    "plt.show()\n",
    " "
   ]
  },
  {
   "cell_type": "code",
   "execution_count": null,
   "metadata": {},
   "outputs": [],
   "source": [
    "# loi conditionnelle distance | marque\n",
    "# calcul d'une marginale\n",
    "\n",
    "p_m = \n",
    "\n",
    "# calcul de la conditionnelle\n",
    "p_dsm = \n",
    "\n",
    "# affichage\n",
    "fig, ax = plt.subplots(1,1)\n",
    "plt.imshow(p_dsm, interpolation='nearest')\n",
    "ax.set_xticks(np.arange(len(dico_marques)))\n",
    "ax.set_xticklabels(dico_marques.keys(),rotation=90,fontsize=8)\n",
    "plt.show()\n",
    "\n",
    "# proposition d'un critÃ¨re trÃ¨s rapide pour vÃ©rifier qu'il s'agit bien d'une distribution conditionnelle\n"
   ]
  },
  {
   "cell_type": "markdown",
   "metadata": {},
   "source": [
    "## TracÃ© de l'ensemble de l'Ã©chantillon avec des codes couleurs\n",
    "\n",
    "Nous proposons ensuite de tracer toutes les trajectoires des voitures blablacar. Pour cela, il faut utiliser la commande `plt.plot`.\n",
    "Vous devez optenir des Ã©toiles Ã  partir des 7 villes requÃªtes: `['Paris', 'Marseille', 'Grenoble', 'Lille', 'Strasbourg', 'Nantes', 'Bordeaux']`.\n",
    "Mais on ne voit pas grand chose... Et Ã§a prend beaucoup de temps Ã  tracer avec une boucle for. On propose donc une sÃ©rie d'exercice pour mieux comprendre ce qui se passe.\n",
    "1. Attention Ã  l'ordre des arguments dans le plot:\n",
    "```plt.plot(tous_les_x, tous_les_y)```\n",
    "Afin de tracer des trajectoires, il faut envoyer les x et les y 2 par 2 dans une boucle `for`\n",
    "1. Pour Ã©viter les boucles, il existe une mÃ©thode `quiver` dÃ©diÃ©e au tracÃ© de champs de vecteurs: Ã§a ira beaucoup plus vite qu'avec plot. Il faut juste bien comprendre les mÃ©canismes d'Ã©chelles. Pour utiliser l'Ã©chelle 1, la commande est la suivante:\n",
    "```python\n",
    "plt.quiver(x_dep, y_dep, delta_x, delta_y,\\\n",
    "            angles='xy', scale_units='xy', scale=1)\n",
    "```\n",
    "1. Isoler les trajets proposÃ©s Ã  partir de chacune des villes sachant les coordonnÃ©es sont:\n",
    "```python\n",
    "coord = np.array([[45.18721767,  5.72345183],\n",
    " [47.22572172, -1.56558993],\n",
    " [50.63010695,  3.07071992],\n",
    " [48.5782548,   7.74078742],\n",
    " [44.83848889, -0.58156509],\n",
    " [43.2991509,   5.38925024],\n",
    " [48.8477201,   2.34607889]])\n",
    "```\n",
    "Chaque trajectoire (point de dÃ©part) sera rattachÃ©e Ã  la ville la plus proche.\n",
    "Une fois la distance calculÃ©e pour chaque origine de trajectoire, vous pourrez avoir besoin de `argmin`\n",
    "1. Tracer les trajets d'une couleur spÃ©ciale en fonction des origines. \n",
    "\n",
    "Les commandes matplotlib attendent des instructions de couleur au format RGB ou avec des lettres. Je vous propose une solution Ã©lÃ©gante pour distinguer les villes.\n",
    " - soit l'index de la ville la plus proche sotckÃ© dans `ville_or` (0,...,7)\n",
    " - construire le dictionnaire: `dict({0:'b', 1:'r', 2:'k', 3:'y', 4:'c', 5:'m', 6:'g'})`\n",
    " - transformer `ville_or` en `ville_c` en vectorisant l'appel Ã  la table de hash:\n",
    "```python\n",
    "ville_c = np.vectorize(dico.get)(ville_or)\n",
    "```"
   ]
  },
  {
   "cell_type": "code",
   "execution_count": null,
   "metadata": {},
   "outputs": [],
   "source": [
    "# tracÃ© de l'ensemble des trajectoires avec un code couleur en fonction de la ville de dÃ©part\n"
   ]
  },
  {
   "cell_type": "code",
   "execution_count": null,
   "metadata": {},
   "outputs": [],
   "source": [
    "# trouver l'information sur la ville la plus proche\n",
    "\n",
    "coord = np.array([[45.18721767,  5.72345183],\n",
    " [47.22572172, -1.56558993],\n",
    " [50.63010695,  3.07071992],\n",
    " [48.5782548,   7.74078742],\n",
    " [44.83848889, -0.58156509],\n",
    " [43.2991509,   5.38925024],\n",
    " [48.8477201,   2.34607889]])\n",
    "\n",
    "# calcul de la matrice de distance\n",
    "dist =               \n",
    "# indice de la ville d'origine du trajet (plus petite distance dans le tableau ci-dessus)\n",
    "ville_or = \n",
    "\n",
    "# astuce pour construire une correspondance indice => code couleur\n",
    "dico = dict({0:'b', 1:'r', 2:'k', 3:'y', 4:'c', 5:'m', 6:'g'})\n",
    "ville_c = np.vectorize(dico.get)(ville_or)\n",
    "\n",
    "plt.figure()\n",
    "plt.quiver([... coordonnÃ©es des vecteurs ...]\\\n",
    "           color= ville_c,  angles='xy', scale_units='xy', scale=1)\n",
    "plt.show()"
   ]
  },
  {
   "cell_type": "markdown",
   "metadata": {},
   "source": [
    "## Etude de la corrÃ©lation entre variables\n",
    "\n",
    "On propose d'Ã©tudier la corrÃ©lation entre la distance du trajet et le nombre d'Ã©toiles de confort. Attention, les Ã©toiles ne sont pas toujours renseignÃ©es (-1 = inconnu). On fera aussi ces opÃ©rations entre la distance et le prix.\n",
    "\n",
    "1. Tracer dans le plan les coordonnÃ©es (distance,etoile) pour les points concernÃ©s\n",
    "\n",
    "Vous utiliserez la commande `scatter` pour rÃ©aliser l'opÃ©ration\n",
    "1. Calculer le coefficient de corrÃ©lation entre les deux variables alÃ©atoires\n"
   ]
  },
  {
   "cell_type": "code",
   "execution_count": null,
   "metadata": {},
   "outputs": [],
   "source": [
    "# test de corrÃ©lation entre la distance et le confort de la voiture\n",
    "plt.figure()\n",
    "# affichage du nuage de points correspondant au deux variables\n",
    "plt.show()\n",
    "\n",
    "# calcul du coefficient de corrÃ©lation pour tous les points admissibles \n",
    "# (ceux pour lesquels les Ã©toiles sont renseignÃ©es)\n",
    "\n",
    "# test de corrÃ©lation entre la distance et le prix\n",
    "plt.figure()\n",
    "# affichage du nuage de points correspondant au deux variables\n",
    "plt.show()\n",
    "\n",
    "# calcul du coefficient de corrÃ©lation pour tous les points admissibles \n",
    "\n"
   ]
  },
  {
   "cell_type": "markdown",
   "metadata": {},
   "source": [
    "## Quelques questions supplÃ©mentaires\n",
    "\n",
    "### prix au kilomÃ¨tre en fonction de l'origine\n",
    "On s'intÃ©rroge sur le prix des courses en fonction des villes de dÃ©part. On ne veut pas tomber dans des piÃ¨ges liÃ©s Ã  des rÃ©sumÃ©s simplistes, nous allons donc calculer la distribution jointe (prix_km, ville_origine).\n",
    "1. Mettre au propre le code de discretisation en construisant une mÃ©thode de signature:\n",
    "```python\n",
    "def discretisation(x, nintervalles):\n",
    "    #[...]\n",
    "    return bornes, effectifs, xd \n",
    "```\n",
    "1. Mettre au propre le code de calcul de la loi jointe entre deux Ã©chantillons de variables alÃ©atoires discrÃ¨tes\n",
    "```python\n",
    "def pjointe(xd, yd):\n",
    "    #[...]\n",
    "    return pj\n",
    "```\n",
    "1. En l'Ã©tat, nous avons du mal Ã  analyser les donnÃ©es. Ceci est du aux valeurs extrÃªmes (notamment hautes). Afin de rendre l'analyse robuste, seuiller le prix au km au 99Ã¨me percentile (toutes les valeurs supÃ©rieures sont ramenÃ©es Ã  cette valeur limite).\n",
    "1. Proposer quelques analyses.\n",
    "\n",
    "### mÃªme analyse pour voir dans quelle ville les gens sont plus matinaux, s'ils partent plus vers le sud ou le nord, l'est ou l'ouest...\n",
    "\n",
    "Si vous Ã©tiez un journaliste en manque de sujet de reportage, quel(s) graphique(s) calculeriez vous Ã  partir de ces donnÃ©es? \n"
   ]
  },
  {
   "cell_type": "code",
   "execution_count": null,
   "metadata": {},
   "outputs": [],
   "source": [
    "def discretisation(x, nintervalles, eps = 0.0000001) :\n",
    "    # [...]\n",
    "    return bornes, effectifs, xd\n",
    "\n",
    "def pjointe(xd, yd): # variable codÃ©es de 0 Ã  valmax\n",
    "    # [...]\n",
    "    return pj"
   ]
  },
  {
   "cell_type": "code",
   "execution_count": null,
   "metadata": {},
   "outputs": [],
   "source": [
    "# prix km\n",
    "pkm = data[:,-4]/data[:,-1]\n",
    "n = 30 # nb catÃ©gories\n",
    "\n",
    "# robustesse : calcul du 99Ã¨ percentile et seuillage des valeurs\n",
    "\n",
    "bornes, effectifs, pkmd = discretisation(pkm, n)\n",
    "\n",
    "pj = pjointe(pkmd,ville_or)\n",
    "\n",
    "pv =       # calcul de la marginale\n",
    "p_km_s_v = # calcul de la conditionnelle\n",
    "\n",
    "fig, ax = plt.subplots(1,1)\n",
    "plt.imshow(p_km_s_v, interpolation='nearest')\n",
    "plt.show()\n",
    "\n",
    "# analyses"
   ]
  },
  {
   "cell_type": "code",
   "execution_count": null,
   "metadata": {
    "collapsed": true
   },
   "outputs": [],
   "source": []
  }
 ],
 "metadata": {
  "kernelspec": {
   "display_name": "Python 3",
   "language": "python",
   "name": "python3"
  },
  "language_info": {
   "codemirror_mode": {
    "name": "ipython",
    "version": 3
   },
   "file_extension": ".py",
   "mimetype": "text/x-python",
   "name": "python",
   "nbconvert_exporter": "python",
   "pygments_lexer": "ipython3",
   "version": "3.7.1"
  }
 },
 "nbformat": 4,
 "nbformat_minor": 2
}
